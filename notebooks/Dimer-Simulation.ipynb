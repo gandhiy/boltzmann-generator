{
 "cells": [
  {
   "cell_type": "code",
   "execution_count": 1,
   "metadata": {},
   "outputs": [],
   "source": [
    "import sys\n",
    "sys.path.append(\"../core/simulations\")\n",
    "\n",
    "\n",
    "import simulation_library\n",
    "import potentials\n",
    "import integrators\n",
    "import data_logging\n",
    "import numpy as np\n",
    "import matplotlib.pyplot as plt\n",
    "import matplotlib.animation as animation\n",
    "import visuals\n",
    "\n",
    "plt.style.use(\"ggplot\")\n",
    "%matplotlib inline\n",
    "system_builder = simulation_library.SystemFactory()"
   ]
  },
  {
   "cell_type": "markdown",
   "metadata": {},
   "source": [
    "# Dimer in LJ Bath\n"
   ]
  },
  {
   "cell_type": "code",
   "execution_count": 2,
   "metadata": {},
   "outputs": [],
   "source": [
    "system = system_builder.build_system(dim = 2, T = 1, rho = 0.4, N = 36, potential = \"LJ-rep\", sigma = 1, epsilon = 1, r_c = 2)\n",
    "system.add_bond(potentials.DoubleWellPotential1D(1.5, 25, 10, -0.5), system.particles[0], system.particles[1])\n",
    "system.bonds[0].particle_interactions = False"
   ]
  },
  {
   "cell_type": "code",
   "execution_count": 3,
   "metadata": {},
   "outputs": [],
   "source": [
    "system.get_integrator(\"verlet_neighbors\", dt = 0.001, r_nl = 2.5)\n",
    "system.get_thermostat(\"anderson\", T = 1, colisions = 0.01, freq = 100)"
   ]
  },
  {
   "cell_type": "code",
   "execution_count": 4,
   "metadata": {},
   "outputs": [],
   "source": [
    "coordinate_logger = data_logging.CoordinateLogger(system, 50)\n",
    "energy_logger = data_logging.EnergyLogger(system, 100)\n",
    "temp_logger = data_logging.TemperatureLogger(system, 100)\n",
    "dist_logger = data_logging.DistanceLogger(system, 100)\n",
    "system.registerObserver(coordinate_logger)\n",
    "system.registerObserver(energy_logger)\n",
    "system.registerObserver(temp_logger)\n",
    "system.registerObserver(dist_logger)"
   ]
  },
  {
   "cell_type": "code",
   "execution_count": null,
   "metadata": {},
   "outputs": [],
   "source": [
    "system.run(50000)"
   ]
  },
  {
   "cell_type": "code",
   "execution_count": null,
   "metadata": {},
   "outputs": [],
   "source": [
    "plt.figure(figsize = [7,5])\n",
    "plt.scatter(*system.get_coordinates().T, s = 400)\n",
    "plt.plot([system.particles[0].loc[0], system.particles[1].loc[0]], [system.particles[0].loc[1], system.particles[1].loc[1]], lw = 10)\n",
    "plt.xlabel(\"X axis\")\n",
    "plt.ylabel(\"Y axis\")"
   ]
  },
  {
   "cell_type": "code",
   "execution_count": null,
   "metadata": {},
   "outputs": [],
   "source": [
    "x_traj = np.array(coordinate_logger.coordinates)\n",
    "print(x_traj.shape)\n",
    "visuals.make_2D_traj(x_traj, system.box, markersize= 30, color = \"red\")"
   ]
  },
  {
   "cell_type": "code",
   "execution_count": null,
   "metadata": {},
   "outputs": [],
   "source": [
    "plt.plot(energy_logger.steps, energy_logger.H)\n",
    "plt.plot(energy_logger.steps, energy_logger.U)\n",
    "plt.plot(energy_logger.steps, energy_logger.K)\n",
    "plt.legend([\"Total\", \"Potential\", \"Kinetic\"])"
   ]
  },
  {
   "cell_type": "code",
   "execution_count": null,
   "metadata": {},
   "outputs": [],
   "source": [
    "plt.plot(energy_logger.steps, energy_logger.U)"
   ]
  },
  {
   "cell_type": "code",
   "execution_count": null,
   "metadata": {},
   "outputs": [],
   "source": [
    "plt.plot(temp_logger.steps, temp_logger.T)"
   ]
  },
  {
   "cell_type": "code",
   "execution_count": null,
   "metadata": {},
   "outputs": [],
   "source": []
  },
  {
   "cell_type": "code",
   "execution_count": null,
   "metadata": {},
   "outputs": [],
   "source": [
    "x = np.linspace(0.5, 2.5, 30)\n",
    "y = np.array([system.bonds[0].potential(x)]).reshape(-1)\n",
    "fig, ax1 = plt.subplots()\n",
    "ax2 = ax1.twinx()\n",
    "ax1.set_xlabel(\"Dimer Distance\")\n",
    "ax1.set_ylabel(\"Counts\", color = \"red\")\n",
    "ax1.hist(np.array(dist_logger.d).reshape(-1, 1), bins = 40, color = \"red\")\n",
    "ax1.tick_params(axis='y')\n",
    "\n",
    "\n",
    "ax2.plot(x,y, color = \"blue\")\n",
    "ax2.set_ylabel(\"Bond Energy\", color=\"blue\")\n",
    "ax2.tick_params(axis='y')"
   ]
  },
  {
   "cell_type": "markdown",
   "metadata": {},
   "source": [
    "# Dimer in LJ Bath (Metropolis Sampling)"
   ]
  },
  {
   "cell_type": "code",
   "execution_count": null,
   "metadata": {},
   "outputs": [],
   "source": [
    "system = system_builder.build_system(dim = 2, T = 1, rho = 0.7, N = 36, potential = \"LJ-rep\", sigma = 1, epsilon = 1, r_c = 2)\n",
    "system.add_bond(potentials.DoubleWellPotential1D(1.5, 25, 10, -0.5), system.particles[0], system.particles[1])\n",
    "system.bonds[0].particle_interactions = False\n",
    "system.get_integrator(\"metropolis\", dt = 0.001, r_nl = 2.5)"
   ]
  },
  {
   "cell_type": "code",
   "execution_count": null,
   "metadata": {},
   "outputs": [],
   "source": [
    "coordinate_logger = data_logging.CoordinateLogger(system, 50)\n",
    "energy_logger = data_logging.EnergyLogger(system, 100)\n",
    "temp_logger = data_logging.TemperatureLogger(system, 100)\n",
    "dist_logger = data_logging.DistanceLogger(system, 100)\n",
    "system.registerObserver(coordinate_logger)\n",
    "system.registerObserver(energy_logger)\n",
    "system.registerObserver(temp_logger)\n",
    "system.registerObserver(dist_logger)"
   ]
  },
  {
   "cell_type": "code",
   "execution_count": null,
   "metadata": {},
   "outputs": [],
   "source": [
    "system.run(50000)"
   ]
  },
  {
   "cell_type": "code",
   "execution_count": null,
   "metadata": {},
   "outputs": [],
   "source": []
  }
 ],
 "metadata": {
  "kernelspec": {
   "display_name": "Python 3",
   "language": "python",
   "name": "python3"
  },
  "language_info": {
   "codemirror_mode": {
    "name": "ipython",
    "version": 3
   },
   "file_extension": ".py",
   "mimetype": "text/x-python",
   "name": "python",
   "nbconvert_exporter": "python",
   "pygments_lexer": "ipython3",
   "version": "3.7.3"
  }
 },
 "nbformat": 4,
 "nbformat_minor": 2
}
