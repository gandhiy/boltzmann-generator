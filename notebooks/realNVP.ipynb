{
 "cells": [
  {
   "cell_type": "code",
   "execution_count": 1,
   "metadata": {},
   "outputs": [],
   "source": [
    "%matplotlib inline\n",
    "%load_ext autoreload\n",
    "%autoreload 2"
   ]
  },
  {
   "cell_type": "code",
   "execution_count": 2,
   "metadata": {},
   "outputs": [],
   "source": [
    "import sys\n",
    "import numpy as np\n",
    "import tensorflow as tf\n",
    "import matplotlib.pyplot as plt\n",
    "\n",
    "sys.path.append(\"../core\")\n",
    "sys.path.append(\"../core/simulations\")\n",
    "\n",
    "import simulation_library, potentials, integrators, data_logging, visuals\n",
    "\n",
    "from data import gen_double_moon_samples\n",
    "from losses import getLoss\n",
    "from trainer import Trainer\n",
    "from optimizers import getOpt\n",
    "from network_base import RealNVP\n",
    "from network_logging import *\n",
    "\n",
    "plt.style.use(\"ggplot\")"
   ]
  },
  {
   "cell_type": "code",
   "execution_count": null,
   "metadata": {},
   "outputs": [],
   "source": []
  },
  {
   "cell_type": "markdown",
   "metadata": {},
   "source": [
    "## Crescent Moon Example"
   ]
  },
  {
   "cell_type": "code",
   "execution_count": null,
   "metadata": {},
   "outputs": [],
   "source": [
    "def crescent_moon_example():\n",
    "    data = gen_double_moon_samples(10000)\n",
    "    loss = getLoss().basic_loss()\n",
    "    opt = getOpt().rmsprop(1e-4)\n",
    "    model = RealNVP(loss, opt, model_name='double_moon')\n",
    "    model = LogLoss(model)\n",
    "    model = LogTargetPlot(model)\n",
    "    model = Checkpointing(model)\n",
    "    trainer = Trainer(model, data)\n",
    "    trainer.train(15)\n",
    "    return trainer"
   ]
  },
  {
   "cell_type": "code",
   "execution_count": null,
   "metadata": {},
   "outputs": [],
   "source": [
    "trained = crescent_moon_example()"
   ]
  },
  {
   "cell_type": "code",
   "execution_count": null,
   "metadata": {},
   "outputs": [],
   "source": []
  },
  {
   "cell_type": "markdown",
   "metadata": {},
   "source": [
    "## Double Well Potential Example"
   ]
  },
  {
   "cell_type": "code",
   "execution_count": null,
   "metadata": {},
   "outputs": [],
   "source": [
    "def double_well_potential(freq = 100):\n",
    "    system_builder = simulation_library.SystemFactory()\n",
    "    coords = []\n",
    "    for i, s in enumerate([[-2, 0], [-1, 0], [1, 0], [2, 0]]):\n",
    "        system = simulation_library.System(dim = 2)\n",
    "        wca = potentials.WCAPotential(1, 1)\n",
    "        system.central_potential = potentials.DoubleWellPotential(a = 1,\n",
    "                                                                  b = 6, \n",
    "                                                                  c = 1,\n",
    "                                                                  d = 1)\n",
    "        \n",
    "        system.add_particle(simulation_library.Particle(wca, np.array(s)))\n",
    "        system.get_integrator(\"metropolis\", None, temp = .5)\n",
    "        coords_logger = data_logging.CoordinateLogger(system, freq)\n",
    "        energy_logger = data_logging.EnergyLogger(system, freq)\n",
    "        system.registerObserver(coords_logger)\n",
    "        system.registerObserver(energy_logger)\n",
    "        system.run(5000 * freq)\n",
    "        c = np.array(coords_logger.coordinates, dtype=np.float32).squeeze()[:-freq]\n",
    "        if(len(coords) == 0):\n",
    "            coords = c\n",
    "        else:\n",
    "            coords = np.concatenate((coords, c), axis=0)\n",
    "    \n",
    "    loss = getLoss().basic_loss()\n",
    "    opt = getOpt().rmsprop(1e-4)\n",
    "    model = RealNVP(loss, opt, model_name=\"double_well\")\n",
    "    model = LogLoss(model)\n",
    "    model = LogTargetPlot(model)\n",
    "    model = Checkpointing(model)\n",
    "    trainer = Trainer(model, coords)\n",
    "    trainer.train(10)\n",
    "    return trainer, system"
   ]
  },
  {
   "cell_type": "code",
   "execution_count": null,
   "metadata": {},
   "outputs": [],
   "source": [
    "trained_dw, dw_sys = double_well_potential()"
   ]
  },
  {
   "cell_type": "code",
   "execution_count": null,
   "metadata": {},
   "outputs": [],
   "source": [
    "out = np.expand_dims(trained_dw.model.forward_sample(10000).numpy(), axis=1)"
   ]
  },
  {
   "cell_type": "code",
   "execution_count": null,
   "metadata": {},
   "outputs": [],
   "source": [
    "ani = visuals.make_2D_traj_potential(out,\n",
    "                              potential=dw_sys.central_potential,\n",
    "                              xlim = [-6, 6],\n",
    "                              ylim = [-8, 8],\n",
    "                              cutoff = 10)\n",
    "\n",
    "ani"
   ]
  },
  {
   "cell_type": "code",
   "execution_count": null,
   "metadata": {},
   "outputs": [],
   "source": [
    "targets = trained_dw.model.forward_sample(1000).numpy()\n",
    "gauss = trained_dw.model.backward_sample(targets).numpy().T"
   ]
  },
  {
   "cell_type": "code",
   "execution_count": 3,
   "metadata": {},
   "outputs": [],
   "source": [
    "loss = getLoss().maximum_likelihood_loss()\n",
    "opt = getOpt().rmsprop(1e-4)\n",
    "model = RealNVP(loss, opt, model_name=\"asdfasdf\")"
   ]
  },
  {
   "cell_type": "code",
   "execution_count": 9,
   "metadata": {},
   "outputs": [
    {
     "name": "stdout",
     "output_type": "stream",
     "text": [
      "Returns the (log o det o Jacobian o inverse)(y).\n",
      "\n",
      "    Mathematically, returns: `log(det(dX/dY))(Y)`. (Recall that: `X=g^{-1}(Y)`.)\n",
      "\n",
      "    Note that `forward_log_det_jacobian` is the negative of this function,\n",
      "    evaluated at `g^{-1}(y)`.\n",
      "\n",
      "    Args:\n",
      "      y: `Tensor`. The input to the 'inverse' Jacobian determinant evaluation.\n",
      "      event_ndims: Number of dimensions in the probabilistic events being\n",
      "        transformed. Must be greater than or equal to\n",
      "        `self.inverse_min_event_ndims`. The result is summed over the final\n",
      "        dimensions to produce a scalar Jacobian determinant for each event, i.e.\n",
      "        it has shape `rank(y) - event_ndims` dimensions.\n",
      "      name: The name to give this op.\n",
      "      **kwargs: Named arguments forwarded to subclass implementation.\n",
      "\n",
      "    Returns:\n",
      "      ildj: `Tensor`, if this bijector is injective.\n",
      "        If not injective, returns the tuple of local log det\n",
      "        Jacobians, `log(det(Dg_i^{-1}(y)))`, where `g_i` is the restriction\n",
      "        of `g` to the `ith` partition `Di`.\n",
      "\n",
      "    Raises:\n",
      "      TypeError: if `self.dtype` is specified and `y.dtype` is not\n",
      "        `self.dtype`.\n",
      "      NotImplementedError: if `_inverse_log_det_jacobian` is not implemented.\n",
      "    \n"
     ]
    }
   ],
   "source": [
    "print(model.flow.bijector.inverse_log_det_jacobian.__doc__)"
   ]
  },
  {
   "cell_type": "code",
   "execution_count": 17,
   "metadata": {},
   "outputs": [
    {
     "data": {
      "text/plain": [
       "<tf.Tensor: shape=(), dtype=float32, numpy=19.3912>"
      ]
     },
     "execution_count": 17,
     "metadata": {},
     "output_type": "execute_result"
    }
   ],
   "source": [
    "target = model.forward_sample(1000)\n",
    "gauss = model.backward_sample(target)\n",
    "tf.reduce_mean(model.flow.bijector.inverse_log_det_jacobian(target, 2))"
   ]
  },
  {
   "cell_type": "code",
   "execution_count": 19,
   "metadata": {},
   "outputs": [
    {
     "data": {
      "text/plain": [
       "<tf.Tensor: shape=(1000, 2), dtype=float32, numpy=\n",
       "array([[ 0.42140055, -0.43197063],\n",
       "       [-0.88724947, -0.37996253],\n",
       "       [ 1.3165752 , -0.7802854 ],\n",
       "       ...,\n",
       "       [-0.3452824 ,  1.6943659 ],\n",
       "       [ 0.95830786,  0.6928664 ],\n",
       "       [ 1.4096792 , -0.56727624]], dtype=float32)>"
      ]
     },
     "execution_count": 19,
     "metadata": {},
     "output_type": "execute_result"
    }
   ],
   "source": [
    "model.flow.distribution.sample(1000)"
   ]
  },
  {
   "cell_type": "code",
   "execution_count": null,
   "metadata": {},
   "outputs": [],
   "source": []
  },
  {
   "cell_type": "markdown",
   "metadata": {},
   "source": [
    "## Mueller Potential Example"
   ]
  },
  {
   "cell_type": "code",
   "execution_count": null,
   "metadata": {},
   "outputs": [],
   "source": [
    "def mueller_potential(freq = 500):\n",
    "    system_mp = simulation_library.System(dim = 2)\n",
    "    coords = []\n",
    "    for i, s in enumerate([[1, 0], [0, 0.5], [-0.5, 1.5]]):\n",
    "        system_mp.central_potential = potentials.MuellerPotential(alpha = 0.1, \n",
    "                                                                  A = [-200, -100, -170, 15],\n",
    "                                                                  a = [-1, -1, -6.5, 0.7],\n",
    "                                                                  b = [0, 0, 11, 0.6],\n",
    "                                                                  c = [-10, -10, -6.5, 0.7],\n",
    "                                                                  xj = [1, 0, -0.5, -1],\n",
    "                                                                  yj = [0, 0.5, 1.5, 1]\n",
    "                                                                 )\n",
    "        wca = potentials.WCAPotential(1,1)\n",
    "        system_mp.add_particle(simulation_library.Particle(wca, np.array([0, 1.5])))\n",
    "\n",
    "        system_mp.get_integrator(\"verlet\", dt = 0.0001)\n",
    "        system_mp.get_thermostat(\"anderson\", T = 1, freq = 100, colisions = 0.01)\n",
    "        coords_logger_mp = data_logging.CoordinateLogger(system_mp, freq)\n",
    "        energy_logger_mp = data_logging.EnergyLogger(system_mp, freq)\n",
    "        system_mp.registerObserver(coords_logger_mp)\n",
    "        system_mp.registerObserver(energy_logger_mp)\n",
    "        system_mp.run(5000 * freq)\n",
    "        c = np.array(coords_logger_mp.coordinates, dtype=np.float32).squeeze()[: - freq]\n",
    "        if(len(coords) == 0):\n",
    "            coords = c\n",
    "        else:\n",
    "            for k in range(c.shape[1]):\n",
    "                coords = np.concatenate((coords, c[:, k, :]), axis=0)        \n",
    "    \n",
    "    loss = getLoss().basic_loss()\n",
    "    opt = getOpt().rmsprop(1e-4)\n",
    "    model = RealNVP(loss, opt, model_name='mueller_potential')\n",
    "    model = LogLoss(model)\n",
    "    model = LogTargetPlot(model)\n",
    "    model = Checkpointing(model)\n",
    "    trainer = Trainer(model, coords)\n",
    "    trainer.train(20)\n",
    "    return trainer"
   ]
  },
  {
   "cell_type": "code",
   "execution_count": null,
   "metadata": {},
   "outputs": [],
   "source": [
    "trained_mp = mueller_potential()"
   ]
  },
  {
   "cell_type": "code",
   "execution_count": null,
   "metadata": {},
   "outputs": [],
   "source": []
  },
  {
   "cell_type": "code",
   "execution_count": null,
   "metadata": {},
   "outputs": [],
   "source": []
  }
 ],
 "metadata": {
  "kernelspec": {
   "display_name": ".venv",
   "language": "python",
   "name": ".venv"
  },
  "language_info": {
   "codemirror_mode": {
    "name": "ipython",
    "version": 3
   },
   "file_extension": ".py",
   "mimetype": "text/x-python",
   "name": "python",
   "nbconvert_exporter": "python",
   "pygments_lexer": "ipython3",
   "version": "3.7.4"
  }
 },
 "nbformat": 4,
 "nbformat_minor": 4
}
