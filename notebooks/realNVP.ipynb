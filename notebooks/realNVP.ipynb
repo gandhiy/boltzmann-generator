{
 "cells": [
  {
   "cell_type": "code",
   "execution_count": 1,
   "metadata": {},
   "outputs": [],
   "source": [
    "%load_ext autoreload\n",
    "%autoreload 2"
   ]
  },
  {
   "cell_type": "code",
   "execution_count": 2,
   "metadata": {},
   "outputs": [],
   "source": [
    "import sys\n",
    "import numpy as np\n",
    "import tensorflow as tf\n",
    "import matplotlib.pyplot as plt\n",
    "\n",
    "sys.path.append(\"../core\")\n",
    "sys.path.append(\"../core/simulations\")\n",
    "\n",
    "import simulation_library, potentials, integrators, data_logging, visuals\n",
    "\n",
    "from data import gen_double_moon_samples\n",
    "from losses import getLoss\n",
    "from trainer import Trainer\n",
    "from optimizers import getOpt\n",
    "from network_base import RealNVP\n",
    "from network_logging import *"
   ]
  },
  {
   "cell_type": "code",
   "execution_count": 3,
   "metadata": {},
   "outputs": [],
   "source": [
    "system_builder = simulation_library.SystemFactory()\n",
    "system = simulation_library.System(dim = 2)\n",
    "wca = potentials.WCAPotential(1, 1)\n",
    "system.central_potential = potentials.DoubleWellPotential(a = 1,\n",
    "                                                          b = 6,\n",
    "                                                          c = 1,\n",
    "                                                          d = 1)\n",
    "system.add_particle(simulation_library.Particle(wca, np.array([0,1])))\n",
    "system.get_integrator(\"metropolis\", None, temp = 1)\n",
    "coords_logger = data_logging.CoordinateLogger(system, 100)\n",
    "energy_logger = data_logging.EnergyLogger(system, 100)\n",
    "system.registerObserver(coords_logger)\n",
    "system.registerObserver(energy_logger)"
   ]
  },
  {
   "cell_type": "code",
   "execution_count": 4,
   "metadata": {},
   "outputs": [],
   "source": [
    "system.run(100000)"
   ]
  },
  {
   "cell_type": "code",
   "execution_count": 6,
   "metadata": {},
   "outputs": [],
   "source": [
    "coords = np.array(coords_logger.coordinates, dtype=np.float32).squeeze()"
   ]
  },
  {
   "cell_type": "code",
   "execution_count": 7,
   "metadata": {},
   "outputs": [],
   "source": [
    "loss = getLoss().basic_loss()\n",
    "opt = getOpt().adam()\n",
    "model = LogTargetPlot(LogGaussPlot(LogLoss(RealNVP(loss, opt, model_name='without_energy'))))\n",
    "trainer = Trainer(model, coords)\n",
    "trainer.train(20)"
   ]
  },
  {
   "cell_type": "code",
   "execution_count": null,
   "metadata": {},
   "outputs": [],
   "source": []
  }
 ],
 "metadata": {
  "kernelspec": {
   "display_name": ".venv",
   "language": "python",
   "name": ".venv"
  },
  "language_info": {
   "codemirror_mode": {
    "name": "ipython",
    "version": 3
   },
   "file_extension": ".py",
   "mimetype": "text/x-python",
   "name": "python",
   "nbconvert_exporter": "python",
   "pygments_lexer": "ipython3",
   "version": "3.7.4"
  }
 },
 "nbformat": 4,
 "nbformat_minor": 4
}
