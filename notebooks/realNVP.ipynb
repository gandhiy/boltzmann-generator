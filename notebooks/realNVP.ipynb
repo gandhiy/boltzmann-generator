{
 "cells": [
  {
   "cell_type": "code",
   "execution_count": 1,
   "metadata": {},
   "outputs": [],
   "source": [
    "%load_ext autoreload\n",
    "%autoreload 2"
   ]
  },
  {
   "cell_type": "code",
   "execution_count": 26,
   "metadata": {},
   "outputs": [],
   "source": [
    "import sys\n",
    "import numpy as np\n",
    "import tensorflow as tf\n",
    "import matplotlib.pyplot as plt\n",
    "\n",
    "sys.path.append(\"../core\")\n",
    "sys.path.append(\"../core/simulations\")\n",
    "\n",
    "import simulation_library, potentials, integrators, data_logging, visuals\n",
    "\n",
    "from data import gen_double_moon_samples\n",
    "from losses import getLoss\n",
    "from trainer import Trainer\n",
    "from optimizers import getOpt\n",
    "from network_base import RealNVP\n",
    "from network_logging import *\n",
    "\n",
    "plt.style.use(\"fivethirtyeight\")"
   ]
  },
  {
   "cell_type": "code",
   "execution_count": 37,
   "metadata": {},
   "outputs": [],
   "source": [
    "def crescent_moon_example():\n",
    "    data = gen_double_moon_samples(10000)\n",
    "    loss = getLoss().basic_loss()\n",
    "    opt = getOpt().rmsprop(1e-4)\n",
    "    model = RealNVP(loss, opt, model_name='double_moon')\n",
    "    model = LogLoss(model)\n",
    "    model = LogTargetPlot(model)\n",
    "    trainer = Trainer(model, data)\n",
    "    trainer.train(25)"
   ]
  },
  {
   "cell_type": "code",
   "execution_count": 38,
   "metadata": {},
   "outputs": [],
   "source": [
    "crescent_moon_example()"
   ]
  },
  {
   "cell_type": "code",
   "execution_count": null,
   "metadata": {},
   "outputs": [],
   "source": []
  },
  {
   "cell_type": "code",
   "execution_count": 53,
   "metadata": {},
   "outputs": [],
   "source": [
    "def double_well_potential(freq = 100):\n",
    "    system_builder = simulation_library.SystemFactory()\n",
    "    coords = []\n",
    "    for i, s in enumerate([[-2, 0], [-1, 0], [1, 0], [2, 0]]):\n",
    "        system = simulation_library.System(dim = 2)\n",
    "        wca = potentials.WCAPotential(1, 1)\n",
    "        system.central_potential = potentials.DoubleWellPotential(a = 1,\n",
    "                                                                  b = 6, \n",
    "                                                                  c = 1,\n",
    "                                                                  d = 1)\n",
    "        \n",
    "        system.add_particle(simulation_library.Particle(wca, np.array(s)))\n",
    "        system.get_integrator(\"metropolis\", None, temp = .5)\n",
    "        coords_logger = data_logging.CoordinateLogger(system, freq)\n",
    "        energy_logger = data_logging.EnergyLogger(system, freq)\n",
    "        system.registerObserver(coords_logger)\n",
    "        system.registerObserver(energy_logger)\n",
    "        system.run(5000 * freq)\n",
    "        c = np.array(coords_logger.coordinates, dtype=np.float32).squeeze()[:-freq]\n",
    "        if(len(coords) == 0):\n",
    "            coords = c\n",
    "        else:\n",
    "            coords = np.concatenate((coords, c), axis=0)\n",
    "    \n",
    "    loss = getLoss().basic_loss()\n",
    "    opt = getOpt().rmsprop(1e-4)\n",
    "    model = RealNVP(loss, opt, model_name=\"double_well\")\n",
    "    model = LogLoss(model)\n",
    "    model = LogTargetPlot(model)\n",
    "    trainer = Trainer(model, coords)\n",
    "    trainer.train(20)"
   ]
  },
  {
   "cell_type": "code",
   "execution_count": 54,
   "metadata": {},
   "outputs": [],
   "source": [
    "double_well_potential()"
   ]
  },
  {
   "cell_type": "code",
   "execution_count": null,
   "metadata": {},
   "outputs": [],
   "source": []
  }
 ],
 "metadata": {
  "kernelspec": {
   "display_name": ".venv",
   "language": "python",
   "name": ".venv"
  },
  "language_info": {
   "codemirror_mode": {
    "name": "ipython",
    "version": 3
   },
   "file_extension": ".py",
   "mimetype": "text/x-python",
   "name": "python",
   "nbconvert_exporter": "python",
   "pygments_lexer": "ipython3",
   "version": "3.7.4"
  }
 },
 "nbformat": 4,
 "nbformat_minor": 4
}
